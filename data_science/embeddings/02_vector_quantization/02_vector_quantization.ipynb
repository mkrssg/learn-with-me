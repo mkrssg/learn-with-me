{
 "cells": [
  {
   "cell_type": "markdown",
   "metadata": {},
   "source": [
    "# Vector quantization\n"
   ]
  },
  {
   "cell_type": "markdown",
   "metadata": {},
   "source": [
    "###  Sentence transformer"
   ]
  },
  {
   "cell_type": "markdown",
   "metadata": {},
   "source": [
    "##### Original Embedding"
   ]
  },
  {
   "cell_type": "code",
   "execution_count": 1,
   "metadata": {},
   "outputs": [
    {
     "name": "stderr",
     "output_type": "stream",
     "text": [
      "/Users/michaelkrissgau/Documents/_personal/git/learnings/.venv/lib/python3.11/site-packages/sentence_transformers/cross_encoder/CrossEncoder.py:13: TqdmWarning: IProgress not found. Please update jupyter and ipywidgets. See https://ipywidgets.readthedocs.io/en/stable/user_install.html\n",
      "  from tqdm.autonotebook import tqdm, trange\n"
     ]
    },
    {
     "data": {
      "text/plain": [
       "array([[ 0.29260147,  0.7827025 ,  0.49470237, ...,  0.7619332 ,\n",
       "         0.28438848, -0.48585227]], dtype=float32)"
      ]
     },
     "execution_count": 1,
     "metadata": {},
     "output_type": "execute_result"
    }
   ],
   "source": [
    "from sentence_transformers import SentenceTransformer\n",
    "\n",
    "model = SentenceTransformer(\"mixedbread-ai/mxbai-embed-large-v1\")\n",
    "\n",
    "embeddings = model.encode(\n",
    "    [\"Hey, this is a vector quantization test.\"],\n",
    ")\n",
    "\n",
    "embeddings"
   ]
  },
  {
   "cell_type": "markdown",
   "metadata": {},
   "source": [
    "##### Binary Embedding"
   ]
  },
  {
   "cell_type": "code",
   "execution_count": 2,
   "metadata": {},
   "outputs": [
    {
     "data": {
      "text/plain": [
       "array([[ 122,  -24, -124,  126, -116,  -30, -104,  -34, -127, -107, -110,\n",
       "          54,  127,  -14,   84,  106,  -12,  -43,  -60,   68,   87,  -85,\n",
       "          51,  -74,  -42,  -61,  -50,  123,   31,  127,  -12,  -68,  -58,\n",
       "         -32, -128,  -99,  -64,  -51,  -19,   93, -124,    6,   -7,   75,\n",
       "         -26,  113, -122,   37,   99,  -53,   49,   91,  -11,   12,   30,\n",
       "        -113,  -86,   50,   -6,  -90,   64,   -5,   -7,  -35,  -15, -106,\n",
       "         -95,   64,   83,   75,  -48,   14, -104,   56,  -20,  -88,  -34,\n",
       "         -26,  -62,  -15,   45,  127,  -75,   96,  102,   21,   94,  -92,\n",
       "         -34, -111,  103, -120,   -3,    5,   63,    8,  -51,   15,  119,\n",
       "          61,  110,  -96,   14,   -6,  115,  -43,   27,  109,   40,  -17,\n",
       "        -124, -101,   77,  109,    8,  -70,   -1,  -95, -111,  -11,  108,\n",
       "         -14,   84,   27,  -98,   26,   94,   54]], dtype=int8)"
      ]
     },
     "execution_count": 2,
     "metadata": {},
     "output_type": "execute_result"
    }
   ],
   "source": [
    "from sentence_transformers import SentenceTransformer\n",
    "\n",
    "model = SentenceTransformer(\"mixedbread-ai/mxbai-embed-large-v1\")\n",
    "\n",
    "embeddings = model.encode(\n",
    "    [\"Hey, this is a vector quantization test.\"],\n",
    "    precision=\"binary\" # <---------------\n",
    ")\n",
    "\n",
    "embeddings"
   ]
  },
  {
   "cell_type": "markdown",
   "metadata": {},
   "source": [
    "##### or"
   ]
  },
  {
   "cell_type": "code",
   "execution_count": 8,
   "metadata": {},
   "outputs": [
    {
     "data": {
      "text/plain": [
       "array([[ 122,  -24, -124,  126, -116,  -30, -104,  -34, -127, -107, -110,\n",
       "          54,  127,  -14,   84,  106,  -12,  -43,  -60,   68,   87,  -85,\n",
       "          51,  -74,  -42,  -61,  -50,  123,   31,  127,  -12,  -68,  -58,\n",
       "         -32, -128,  -99,  -64,  -51,  -19,   93, -124,    6,   -7,   75,\n",
       "         -26,  113, -122,   37,   99,  -53,   49,   91,  -11,   12,   30,\n",
       "        -113,  -86,   50,   -6,  -90,   64,   -5,   -7,  -35,  -15, -106,\n",
       "         -95,   64,   83,   75,  -48,   14, -104,   56,  -20,  -88,  -34,\n",
       "         -26,  -62,  -15,   45,  127,  -75,   96,  102,   21,   94,  -92,\n",
       "         -34, -111,  103, -120,   -3,    5,   63,    8,  -51,   15,  119,\n",
       "          61,  110,  -96,   14,   -6,  115,  -43,   27,  109,   40,  -17,\n",
       "        -124, -101,   77,  109,    8,  -70,   -1,  -95, -111,  -11,  108,\n",
       "         -14,   84,   27,  -98,   26,   94,   54]], dtype=int8)"
      ]
     },
     "execution_count": 8,
     "metadata": {},
     "output_type": "execute_result"
    }
   ],
   "source": [
    "from sentence_transformers import SentenceTransformer\n",
    "from sentence_transformers.quantization import quantize_embeddings\n",
    "\n",
    "model = SentenceTransformer(\"mixedbread-ai/mxbai-embed-large-v1\")\n",
    "\n",
    "embeddings = model.encode([\"Hey, this is a vector quantization test.\"])\n",
    "\n",
    "binary_embeddings = quantize_embeddings(embeddings, precision=\"binary\")\n",
    "\n",
    "binary_embeddings"
   ]
  },
  {
   "cell_type": "code",
   "execution_count": null,
   "metadata": {},
   "outputs": [],
   "source": []
  }
 ],
 "metadata": {
  "kernelspec": {
   "display_name": ".venv",
   "language": "python",
   "name": "python3"
  },
  "language_info": {
   "codemirror_mode": {
    "name": "ipython",
    "version": 3
   },
   "file_extension": ".py",
   "mimetype": "text/x-python",
   "name": "python",
   "nbconvert_exporter": "python",
   "pygments_lexer": "ipython3",
   "version": "3.11.9"
  }
 },
 "nbformat": 4,
 "nbformat_minor": 2
}
